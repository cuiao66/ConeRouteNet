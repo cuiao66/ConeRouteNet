{
    "cells": [
        {
            "cell_type": "code",
            "execution_count": 3,
            "source": [
                "import cv2, torch, os, PIL"
            ],
            "outputs": [],
            "metadata": {}
        },
        {
            "cell_type": "code",
            "execution_count": 9,
            "source": [
                "from PIL import Image\n",
                "import numpy as np"
            ],
            "outputs": [],
            "metadata": {}
        },
        {
            "cell_type": "code",
            "execution_count": 37,
            "source": [
                "left1 = Image.open('/root/data/Udacity/Ch2_002/HMB_5/left/1479425834071986226.jpg')\n",
                "left2 = Image.open('/root/data/Udacity/Ch2_002/HMB_5/left/1479425834121789849.jpg')"
            ],
            "outputs": [],
            "metadata": {}
        },
        {
            "cell_type": "code",
            "execution_count": 38,
            "source": [
                "import time\n",
                "start = time.time()\n",
                "flow = cv2.calcOpticalFlowFarneback(np.asarray(left1.convert('L')), np.asarray(left2.convert('L')), None, 0.5, 3, 15, 3, 5, 1.2, 0)\n",
                "end = time.time()"
            ],
            "outputs": [],
            "metadata": {}
        },
        {
            "cell_type": "code",
            "execution_count": 19,
            "source": [
                "np.asarray(flow).shape"
            ],
            "outputs": [
                {
                    "output_type": "execute_result",
                    "data": {
                        "text/plain": [
                            "(480, 640, 2)"
                        ]
                    },
                    "metadata": {},
                    "execution_count": 19
                }
            ],
            "metadata": {}
        },
        {
            "cell_type": "code",
            "execution_count": 12,
            "source": [
                "np.asarray(left2).shape"
            ],
            "outputs": [
                {
                    "output_type": "execute_result",
                    "data": {
                        "text/plain": [
                            "(480, 640, 3)"
                        ]
                    },
                    "metadata": {},
                    "execution_count": 12
                }
            ],
            "metadata": {}
        },
        {
            "cell_type": "code",
            "execution_count": 22,
            "source": [
                "def draw_flow(im, flow, step=8):\n",
                "    '''\n",
                "        - im: the grayscale channel (0) for GRAYF image\n",
                "        - flow: the flow channels (1:3) for GRAYF image\n",
                "    Note:\n",
                "        1. DO NOT normalize im and flow to show more intuitive visualization \n",
                "        2. To show: plt.imshow(draw_flow(im, flow))\n",
                "    '''\n",
                "    h,w = im.shape[:2]\n",
                "    y,x = np.mgrid[step/2:h:step,step/2:w:step].reshape(2,-1).astype(int)\n",
                "    fx,fy = flow[y,x].T\n",
                "\n",
                "    # create line endpoints\n",
                "    lines = np.vstack([x,y,x+fx,y+fy]).T.reshape(-1,2,2)\n",
                "    lines = np.int32(lines)\n",
                "\n",
                "    # create image and draw\n",
                "    vis = cv2.cvtColor(im,cv2.COLOR_GRAY2BGR)\n",
                "    for (x1,y1),(x2,y2) in lines:\n",
                "        cv2.line(vis,(x1,y1),(x2,y2),(0,255,0),1)\n",
                "        cv2.circle(vis,(x1,y1),1,(0,255,0), -1)\n",
                "\n",
                "    return vis"
            ],
            "outputs": [],
            "metadata": {}
        },
        {
            "cell_type": "code",
            "execution_count": 32,
            "source": [
                "im = cv2.imread('/root/data/Udacity/Ch2_002/HMB_5/left/1479425834071986226.jpg')\n",
                "im = cv2.cvtColor(im, cv2.COLOR_RGBA2GRAY)\n",
                "draw = draw_flow(im, flow)"
            ],
            "outputs": [],
            "metadata": {}
        },
        {
            "cell_type": "code",
            "execution_count": 33,
            "source": [
                "draw.shape"
            ],
            "outputs": [
                {
                    "output_type": "execute_result",
                    "data": {
                        "text/plain": [
                            "(480, 640, 3)"
                        ]
                    },
                    "metadata": {},
                    "execution_count": 33
                }
            ],
            "metadata": {}
        },
        {
            "cell_type": "code",
            "execution_count": 34,
            "source": [
                "cv2.imwrite('./optical_img.png', draw)"
            ],
            "outputs": [
                {
                    "output_type": "execute_result",
                    "data": {
                        "text/plain": [
                            "True"
                        ]
                    },
                    "metadata": {},
                    "execution_count": 34
                }
            ],
            "metadata": {}
        },
        {
            "cell_type": "code",
            "execution_count": 40,
            "source": [
                "end - start"
            ],
            "outputs": [
                {
                    "output_type": "execute_result",
                    "data": {
                        "text/plain": [
                            "0.10650181770324707"
                        ]
                    },
                    "metadata": {},
                    "execution_count": 40
                }
            ],
            "metadata": {}
        },
        {
            "cell_type": "code",
            "execution_count": null,
            "source": [],
            "outputs": [],
            "metadata": {}
        }
    ],
    "metadata": {
        "orig_nbformat": 4,
        "language_info": {
            "name": "python",
            "version": "3.9.12",
            "mimetype": "text/x-python",
            "codemirror_mode": {
                "name": "ipython",
                "version": 3
            },
            "pygments_lexer": "ipython3",
            "nbconvert_exporter": "python",
            "file_extension": ".py"
        },
        "kernelspec": {
            "name": "python3",
            "display_name": "Python 3.9.12 64-bit"
        },
        "interpreter": {
            "hash": "4cd7ab41f5fca4b9b44701077e38c5ffd31fe66a6cab21e0214b68d958d0e462"
        }
    },
    "nbformat": 4,
    "nbformat_minor": 2
}