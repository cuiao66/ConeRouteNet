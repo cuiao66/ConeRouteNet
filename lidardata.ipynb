{
    "cells": [
        {
            "cell_type": "code",
            "execution_count": 10,
            "source": [
                "import numpy as np\n",
                "from carla_data import CARLA_Data"
            ],
            "outputs": [],
            "metadata": {}
        },
        {
            "cell_type": "code",
            "execution_count": 3,
            "source": [
                "lidarpath = '/home/mct/xm/transfuser-main/data/expert/routes_town01_short_06_13_01_11_34/lidar'"
            ],
            "outputs": [],
            "metadata": {}
        },
        {
            "cell_type": "code",
            "execution_count": 6,
            "source": [
                "lidardata = lidarpath + '/0001.npy'"
            ],
            "outputs": [],
            "metadata": {}
        },
        {
            "cell_type": "code",
            "execution_count": 7,
            "source": [
                "lidar = np.load(lidardata)"
            ],
            "outputs": [],
            "metadata": {}
        },
        {
            "cell_type": "code",
            "execution_count": 9,
            "source": [
                "lidar.shape"
            ],
            "outputs": [
                {
                    "output_type": "execute_result",
                    "data": {
                        "text/plain": [
                            "(14784, 4)"
                        ]
                    },
                    "metadata": {},
                    "execution_count": 9
                }
            ],
            "metadata": {}
        },
        {
            "cell_type": "code",
            "execution_count": 19,
            "source": [
                "import os\n",
                "from Demo import GlobalConfig"
            ],
            "outputs": [],
            "metadata": {}
        },
        {
            "cell_type": "code",
            "execution_count": 20,
            "source": [
                "config = GlobalConfig()"
            ],
            "outputs": [],
            "metadata": {}
        },
        {
            "cell_type": "code",
            "execution_count": null,
            "source": [
                "carla_data = CARLA_Data('', config)"
            ],
            "outputs": [],
            "metadata": {}
        },
        {
            "cell_type": "code",
            "execution_count": null,
            "source": [],
            "outputs": [],
            "metadata": {}
        }
    ],
    "metadata": {
        "orig_nbformat": 4,
        "language_info": {
            "name": "python",
            "version": "3.7.13",
            "mimetype": "text/x-python",
            "codemirror_mode": {
                "name": "ipython",
                "version": 3
            },
            "pygments_lexer": "ipython3",
            "nbconvert_exporter": "python",
            "file_extension": ".py"
        },
        "kernelspec": {
            "name": "python3",
            "display_name": "Python 3.7.13 64-bit ('carla-env-0.9.10.1')"
        },
        "interpreter": {
            "hash": "b7240b5cc92992a797c53449dc2d5967b366cec7061648ba27dda67f797d7701"
        }
    },
    "nbformat": 4,
    "nbformat_minor": 2
}