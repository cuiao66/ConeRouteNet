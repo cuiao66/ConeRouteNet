{
    "cells": [
        {
            "cell_type": "code",
            "execution_count": null,
            "source": [
                "import pickle\n",
                "\n",
                "try:\n",
                "    f = open('./var_pickle', 'rb')\n",
                "    fronts = pickle.load(f)\n",
                "    f.close()\n",
                "  \n",
                "except EOFError:\n",
                "    print(\"aaaaa\")"
            ],
            "outputs": [],
            "metadata": {}
        },
        {
            "cell_type": "code",
            "execution_count": null,
            "source": [
                "import pickle\n",
                "\n",
                "try:\n",
                "    f = open('./status_pickle', 'rb')\n",
                "    car_status = pickle.load(f)\n",
                "    f.close()\n",
                "  \n",
                "except EOFError:\n",
                "    print(\"aaaaa\")"
            ],
            "outputs": [],
            "metadata": {}
        },
        {
            "cell_type": "code",
            "execution_count": null,
            "source": [
                "car_status"
            ],
            "outputs": [],
            "metadata": {}
        },
        {
            "cell_type": "code",
            "execution_count": null,
            "source": [
                "import torch\n",
                "import torch.nn.functional as F\n",
                "from torch import nn\n",
                "import os"
            ],
            "outputs": [],
            "metadata": {}
        },
        {
            "cell_type": "code",
            "execution_count": null,
            "source": [
                "import matplotlib.pyplot as plt"
            ],
            "outputs": [],
            "metadata": {}
        },
        {
            "cell_type": "code",
            "execution_count": null,
            "source": [
                "# plt.imshow(fronts[0,5,:,:,:].detach().cpu().permute(1, 2, 0).int())\n",
                "\n",
                "plt.rcParams['figure.figsize'] = (16.0, 6.0) \n",
                "f, axarr = plt.subplots(1, 6)\n",
                "for i in range(6):\n",
                "    axarr[i].imshow(fronts[0,i,:,:,:].detach().cpu().permute(1, 2, 0).int(), cmap='Greys_r')\n",
                "\n",
                "plt.show()"
            ],
            "outputs": [],
            "metadata": {}
        },
        {
            "cell_type": "code",
            "execution_count": null,
            "source": [
                "from models.DemoV2 import DemoNet\n",
                "from utils.config import GlobalConfig\n",
                "from utils.datasets.carla_data import CARLA_Data\n",
                "from torch.utils.data import DataLoader"
            ],
            "outputs": [],
            "metadata": {}
        },
        {
            "cell_type": "code",
            "execution_count": null,
            "source": [
                "config = GlobalConfig()\n",
                "model = DemoNet(config, 'cuda')\n",
                "# model = nn.DataParallel(model, device_ids=[0, 1]).cuda()"
            ],
            "outputs": [],
            "metadata": {}
        },
        {
            "cell_type": "code",
            "execution_count": null,
            "source": [
                "model.load_state_dict(torch.load(os.path.join('/root/End2End/log/Demov2/demo', 'best_model.pth')))\n",
                "model.train = False"
            ],
            "outputs": [],
            "metadata": {}
        },
        {
            "cell_type": "code",
            "execution_count": null,
            "source": [
                "model = model.module"
            ],
            "outputs": [],
            "metadata": {}
        },
        {
            "cell_type": "code",
            "execution_count": null,
            "source": [
                "image = fronts\n",
                "b, s, c, w, h = image.shape\n",
                "\n",
                "image = image.view(-1, c, w, h)\n",
                "for i in range(b * s):\n",
                "\n",
                "    image[i,0,:,:] = (image[i,0,:,:] - 0.485) / 0.229\n",
                "    image[i,1,:,:] = (image[i,1,:,:] - 0.456) / 0.224\n",
                "    image[i,2,:,:] = (image[i,2,:,:] - 0.406) / 0.225\n",
                "\n",
                "image = image.view(-1, c, w, h)\n",
                "img_features_total = model.image_encode_net(image)   \n",
                "\n",
                "_, c, w, h = img_features_total.shape\n",
                "img_features_total = img_features_total.view(b, s, c, w, h)\n",
                "img_features = img_features_total[:,:model.post_len,:,:,:]\n",
                "img_label = img_features_total[:,model.post_len:,:,:,:]\n",
                "b, s, c, w, h = img_features.shape\n",
                "\n",
                "# car_status = self.car_status_net(status)\n",
                "img_features = img_features.view(b, -1, w, h)\n",
                "post_w = model.post_weight_net(img_features)\n",
                "post_w = F.normalize(post_w, p=2, dim=1).unsqueeze(2)\n",
                "\n",
                "img_features = img_features.view(b, s, -1)\n",
                "post_feature_weight = img_features * post_w\n",
                "\n",
                "post_feature_weight = post_feature_weight.view(b, s * c, w, h)\n",
                "pred_features = model.pred_features_net(post_feature_weight) ## (pred_len, w/16 * h/16)\n",
                "\n",
                "# pred_features = pred_features.view(b, s, c, w, h)\n",
                "pred_features = pred_features.view(b, s * c, w, h)\n",
                "pred_w = model.pred_weight_net(pred_features)\n",
                "pred_w = F.normalize(pred_w, p=2, dim=1).unsqueeze(2)\n",
                "\n",
                "pred_features = pred_features.view(b, s, -1)\n",
                "pred_features_weight = pred_features * pred_w\n",
                "\n",
                "post_feature_weight = post_feature_weight.view(b, s, c, w, h)\n",
                "pred_features_weight = pred_features_weight.view(b, s, c, w, h)\n",
                "total_features_weight = torch.cat((post_feature_weight, pred_features_weight), dim=1).view(b, -1)\n",
                "\n",
                "encode_status = model.status_encode_net(car_status)\n",
                "\n",
                "pred_ctr = model.pred_ctr_net(total_features_weight, encode_status)\n",
                "pred_features = pred_features.view(b, s, c, w, h)\n",
                "# return pred_ctr, pred_features, img_label"
            ],
            "outputs": [],
            "metadata": {}
        },
        {
            "cell_type": "code",
            "execution_count": null,
            "source": [
                "pred_ctr"
            ],
            "outputs": [],
            "metadata": {}
        },
        {
            "cell_type": "code",
            "execution_count": null,
            "source": [
                "sum_img_features_total = img_features_total.squeeze(0).sum(dim=1)"
            ],
            "outputs": [],
            "metadata": {}
        },
        {
            "cell_type": "code",
            "execution_count": null,
            "source": [
                "plt.rcParams['figure.figsize'] = (16.0, 6.0)\n",
                "f, axarr = plt.subplots(1,6)\n",
                "for i in range(6):\n",
                "    pic1 = pred_features_weight.sum(dim=2)[0, i, :, :]\n",
                "    pic1 = pic1.squeeze(0).detach().cpu()\n",
                "    # plt.imshow(pic1[:, :], cmap='Greys_r')\n",
                "    axarr[i].imshow(pic1, cmap='Greys_r')\n",
                "\n",
                "plt.show()"
            ],
            "outputs": [],
            "metadata": {}
        }
    ],
    "metadata": {
        "orig_nbformat": 4,
        "language_info": {
            "name": "python",
            "version": "3.9.12",
            "mimetype": "text/x-python",
            "codemirror_mode": {
                "name": "ipython",
                "version": 3
            },
            "pygments_lexer": "ipython3",
            "nbconvert_exporter": "python",
            "file_extension": ".py"
        },
        "kernelspec": {
            "name": "python3",
            "display_name": "Python 3.9.12 64-bit"
        },
        "interpreter": {
            "hash": "4cd7ab41f5fca4b9b44701077e38c5ffd31fe66a6cab21e0214b68d958d0e462"
        }
    },
    "nbformat": 4,
    "nbformat_minor": 2
}