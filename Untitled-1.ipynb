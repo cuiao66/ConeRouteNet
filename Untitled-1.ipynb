{
    "cells": [
        {
            "cell_type": "code",
            "execution_count": 1,
            "source": [
                "import math\n",
                "from collections import deque\n",
                "#from turtle import forward\n",
                "\n",
                "import numpy as np\n",
                "import torch \n",
                "from torch import dropout, nn\n",
                "import torch.nn.functional as F\n",
                "from torchvision import models\n",
                "from torchvision.models._utils import IntermediateLayerGetter\n",
                "import os, torch, torchvision\n",
                "from torch.utils.data import DataLoader"
            ],
            "outputs": [
                {
                    "output_type": "stream",
                    "name": "stderr",
                    "text": [
                        "/usr/local/lib/python3.9/site-packages/tqdm/auto.py:22: TqdmWarning: IProgress not found. Please update jupyter and ipywidgets. See https://ipywidgets.readthedocs.io/en/stable/user_install.html\n",
                        "  from .autonotebook import tqdm as notebook_tqdm\n"
                    ]
                }
            ],
            "metadata": {}
        },
        {
            "cell_type": "code",
            "execution_count": 2,
            "source": [
                "from v3.models.Demo import DemoNet\n",
                "from v3.config import GlobalConfig"
            ],
            "outputs": [],
            "metadata": {}
        },
        {
            "cell_type": "code",
            "execution_count": 3,
            "source": [
                "from utils.datasets.carla_data import CARLA_Data"
            ],
            "outputs": [],
            "metadata": {}
        },
        {
            "cell_type": "code",
            "execution_count": 4,
            "source": [
                "config = GlobalConfig()"
            ],
            "outputs": [],
            "metadata": {}
        },
        {
            "cell_type": "code",
            "execution_count": 5,
            "source": [
                "model = DemoNet(config, \"cuda\")"
            ],
            "outputs": [],
            "metadata": {}
        },
        {
            "cell_type": "code",
            "execution_count": 17,
            "source": [
                "model.load_state_dict(torch.load('/root/End2End/v3/seg/seg/model_101.pth'))"
            ],
            "outputs": [
                {
                    "output_type": "execute_result",
                    "data": {
                        "text/plain": [
                            "<All keys matched successfully>"
                        ]
                    },
                    "metadata": {},
                    "execution_count": 17
                }
            ],
            "metadata": {}
        },
        {
            "cell_type": "code",
            "execution_count": 7,
            "source": [
                "val_set = CARLA_Data(root=config.val_data, config=config)\n",
                "dataloader_val = DataLoader(val_set, batch_size=1, shuffle=False, num_workers=1, pin_memory=True)"
            ],
            "outputs": [
                {
                    "output_type": "stream",
                    "name": "stdout",
                    "text": [
                        "  0%|          | 0/1 [00:00<?, ?it/s]Preloading 3229 sequences from /root/End2End/data/expert/Town05_short/rg_lidar_diag_pl_1.npy\n",
                        "100%|██████████| 1/1 [00:00<00:00, 44.26it/s]\n"
                    ]
                }
            ],
            "metadata": {}
        },
        {
            "cell_type": "code",
            "execution_count": 8,
            "source": [
                "data = None\n",
                "for data in dataloader_val:\n",
                "    break\n"
            ],
            "outputs": [],
            "metadata": {}
        },
        {
            "cell_type": "code",
            "execution_count": 9,
            "source": [
                "fronts_in = data['fronts']\n",
                "seg_fronts_in = data['seg_fronts']\n",
                "lefts_in = data['lefts']\n",
                "seg_lefts_in = data['seg_lefts']\n",
                "rights_in = data['rights']\n",
                "seg_rights_in = data['seg_rights']\n",
                "fronts = []\n",
                "seg_fronts = []\n",
                "seg_lefts = []\n",
                "seg_rights = []\n",
                "lefts = []\n",
                "rights = []\n",
                "for i in range(config.seq_len):\n",
                "\tfronts.append(fronts_in[i].to('cuda', dtype=torch.float32))\n",
                "\tlefts.append(lefts_in[i].to('cuda', dtype=torch.float32))\n",
                "\trights.append(rights_in[i].to('cuda', dtype=torch.float32))\n",
                "\tseg_fronts.append(seg_fronts_in[i].to('cuda', dtype=torch.long))\n",
                "\tseg_lefts.append(seg_lefts_in[i].to('cuda', dtype=torch.long))\n",
                "\tseg_rights.append(seg_rights_in[i].to('cuda', dtype=torch.long))\n",
                "\n",
                "\n",
                "fronts = torch.cat(fronts, dim=1)\n",
                "seg_fronts = torch.cat(seg_fronts, dim=1)\n",
                "seg_lefts = torch.cat(seg_lefts, dim=1)\n",
                "seg_rights = torch.cat(seg_rights, dim=1)\n",
                "lefts = torch.cat(lefts, dim=1)\n",
                "rights = torch.cat(rights, dim=1)\n",
                "image = torch.cat((fronts, lefts, rights), dim=0)\n",
                "seg_label = torch.cat((seg_fronts, seg_lefts, seg_rights), dim=0)"
            ],
            "outputs": [],
            "metadata": {}
        },
        {
            "cell_type": "code",
            "execution_count": 18,
            "source": [
                "with torch.no_grad():\n",
                "    pred = model.train_seg(image)"
            ],
            "outputs": [],
            "metadata": {}
        },
        {
            "cell_type": "code",
            "execution_count": 19,
            "source": [
                "pred.max()"
            ],
            "outputs": [
                {
                    "output_type": "execute_result",
                    "data": {
                        "text/plain": [
                            "tensor(30.5536, device='cuda:0')"
                        ]
                    },
                    "metadata": {},
                    "execution_count": 19
                }
            ],
            "metadata": {}
        },
        {
            "cell_type": "code",
            "execution_count": 20,
            "source": [
                "pred = pred.argmax(dim=1)"
            ],
            "outputs": [],
            "metadata": {}
        },
        {
            "cell_type": "code",
            "execution_count": 21,
            "source": [
                "pred.shape"
            ],
            "outputs": [
                {
                    "output_type": "execute_result",
                    "data": {
                        "text/plain": [
                            "torch.Size([3, 256, 256])"
                        ]
                    },
                    "metadata": {},
                    "execution_count": 21
                }
            ],
            "metadata": {}
        },
        {
            "cell_type": "code",
            "execution_count": 22,
            "source": [
                "import matplotlib.pyplot as plt"
            ],
            "outputs": [],
            "metadata": {}
        },
        {
            "cell_type": "code",
            "execution_count": 23,
            "source": [
                "plt.rcParams['figure.figsize'] = (16.0, 12.0) \n",
                "f, axarr = plt.subplots(2, 3)\n",
                "for i in range(3):\n",
                "    axarr[0][i%3].imshow(pred[i,:,:].detach().cpu().int(), cmap='Greys_r')\n",
                "    axarr[1][i%3].imshow(seg_label[i,:,:].detach().cpu().int(), cmap='Greys_r')\n",
                "plt.show()"
            ],
            "outputs": [
                {
                    "output_type": "display_data",
                    "data": {
                        "text/plain": [
                            "<Figure size 1152x864 with 6 Axes>"
                        ],
                        "image/png": "[encoded data removed]"
                    },
                    "metadata": {
                        "needs_background": "light"
                    }
                }
            ],
            "metadata": {}
        },
        {
            "cell_type": "code",
            "execution_count": 44,
            "source": [
                "seg_label.shape"
            ],
            "outputs": [
                {
                    "output_type": "execute_result",
                    "data": {
                        "text/plain": [
                            "torch.Size([3, 256, 256])"
                        ]
                    },
                    "metadata": {},
                    "execution_count": 44
                }
            ],
            "metadata": {}
        },
        {
            "cell_type": "code",
            "execution_count": 13,
            "source": [
                "import numpy as np\n",
                "import matplotlib.pyplot as plt\n",
                "plt.rcParams['figure.figsize'] = (16.0, 12.0) \n",
                "data = np.load('/root/End2End/data/expert/Town01_short/routes_town01_short_06_12_19_24_59/lidar/0012.npy')    #使用numpy载入npy文件\n",
                "import open3d as o3d\n",
                "import numpy as np\n",
                "np.set_printoptions(suppress=True) # 取消默认科学计数法，open3d无法读取科学计数法表示\n",
                "data = np.load('./Area_1_conferenceRoom_1.npy')\n",
                "b = np.array([1 , 1, 1,255, 255, 255]) # 每一列要除的数\n",
                "np.savetxt('./scene.txt', data[:,:6]/b)\n",
                "# 读取点云并可视化\n",
                "pcd =o3d.io.read_point_cloud('./scene.txt', format='xyzrgb') # 原npy文件中的数据正好是按x y z r g b进行排列\n",
                "print(pcd)\n",
                "o3d.visualization.draw_geometries([pcd], width=1200, height=600)"
            ],
            "outputs": [
                {
                    "output_type": "error",
                    "ename": "ModuleNotFoundError",
                    "evalue": "No module named 'open3d'",
                    "traceback": [
                        "\u001b[0;31m---------------------------------------------------------------------------\u001b[0m",
                        "\u001b[0;31mModuleNotFoundError\u001b[0m                       Traceback (most recent call last)",
                        "Input \u001b[0;32mIn [13]\u001b[0m, in \u001b[0;36m<cell line: 1>\u001b[0;34m()\u001b[0m\n\u001b[0;32m----> 1\u001b[0m \u001b[38;5;28;01mimport\u001b[39;00m \u001b[38;5;21;01mopen3d\u001b[39;00m \u001b[38;5;28;01mas\u001b[39;00m \u001b[38;5;21;01mo3d\u001b[39;00m\n\u001b[1;32m      2\u001b[0m \u001b[38;5;28;01mimport\u001b[39;00m \u001b[38;5;21;01mnumpy\u001b[39;00m \u001b[38;5;28;01mas\u001b[39;00m \u001b[38;5;21;01mnp\u001b[39;00m\n\u001b[1;32m      3\u001b[0m np\u001b[38;5;241m.\u001b[39mset_printoptions(suppress\u001b[38;5;241m=\u001b[39m\u001b[38;5;28;01mTrue\u001b[39;00m) \u001b[38;5;66;03m# 取消默认科学计数法，open3d无法读取科学计数法表示\u001b[39;00m\n",
                        "\u001b[0;31mModuleNotFoundError\u001b[0m: No module named 'open3d'"
                    ]
                }
            ],
            "metadata": {}
        },
        {
            "cell_type": "code",
            "execution_count": 12,
            "source": [
                "depthmap"
            ],
            "outputs": [
                {
                    "output_type": "execute_result",
                    "data": {
                        "text/plain": [
                            "array([[-3.1318944 , 49.149784  ,  8.684019  ,  0.81870055],\n",
                            "       [-2.7052147 , 38.39879   ,  6.7875257 ,  0.85525876],\n",
                            "       [-3.0861914 , 36.772167  ,  6.506729  ,  0.8608088 ],\n",
                            "       ...,\n",
                            "       [-4.207734  ,  0.14095703, -2.4307156 ,  0.9807422 ],\n",
                            "       [-4.2085547 ,  0.11279297, -2.4306831 ,  0.9807424 ],\n",
                            "       [-4.2095313 ,  0.05638672, -2.4306183 ,  0.98074305]],\n",
                            "      dtype=float32)"
                        ]
                    },
                    "metadata": {},
                    "execution_count": 12
                }
            ],
            "metadata": {}
        },
        {
            "cell_type": "code",
            "execution_count": null,
            "source": [],
            "outputs": [],
            "metadata": {}
        }
    ],
    "metadata": {
        "orig_nbformat": 4,
        "language_info": {
            "name": "python",
            "version": "3.9.12",
            "mimetype": "text/x-python",
            "codemirror_mode": {
                "name": "ipython",
                "version": 3
            },
            "pygments_lexer": "ipython3",
            "nbconvert_exporter": "python",
            "file_extension": ".py"
        },
        "kernelspec": {
            "name": "python3",
            "display_name": "Python 3.9.12 64-bit"
        },
        "interpreter": {
            "hash": "4cd7ab41f5fca4b9b44701077e38c5ffd31fe66a6cab21e0214b68d958d0e462"
        }
    },
    "nbformat": 4,
    "nbformat_minor": 2
}