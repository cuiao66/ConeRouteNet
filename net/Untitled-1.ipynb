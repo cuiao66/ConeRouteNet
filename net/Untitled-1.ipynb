{
    "cells": [
        {
            "cell_type": "code",
            "execution_count": 1,
            "source": [
                "import os, torch, torchvision\n",
                "import torch.nn as nn\n",
                "import torch.optim as optim\n",
                "from torchvision.models._utils import IntermediateLayerGetter\n",
                "import torch.nn.functional as F\n"
            ],
            "outputs": [],
            "metadata": {}
        },
        {
            "cell_type": "code",
            "execution_count": 12,
            "source": [
                "backbone = torchvision.models.resnet34(pretrained=True)\n",
                "return_layers = {'layer4': 'out'}\n",
                "backbone = IntermediateLayerGetter(backbone, return_layers=return_layers)"
            ],
            "outputs": [],
            "metadata": {}
        },
        {
            "cell_type": "code",
            "execution_count": 16,
            "source": [
                "image = torch.ones(1, 3, 256, 256)"
            ],
            "outputs": [],
            "metadata": {}
        },
        {
            "cell_type": "code",
            "execution_count": 17,
            "source": [
                "ans = backbone(image)"
            ],
            "outputs": [],
            "metadata": {}
        },
        {
            "cell_type": "code",
            "execution_count": 18,
            "source": [
                "ans['out'].shape"
            ],
            "outputs": [
                {
                    "output_type": "execute_result",
                    "data": {
                        "text/plain": [
                            "torch.Size([1, 512, 8, 8])"
                        ]
                    },
                    "metadata": {},
                    "execution_count": 18
                }
            ],
            "metadata": {}
        },
        {
            "cell_type": "code",
            "execution_count": 1,
            "source": [
                "from Demo import ImagineNet"
            ],
            "outputs": [],
            "metadata": {}
        },
        {
            "cell_type": "code",
            "execution_count": 2,
            "source": [
                "import argparse\n",
                "import json\n",
                "import os\n",
                "from tqdm import tqdm\n",
                "import torch.optim as optim\n",
                "import numpy as np\n",
                "import torch\n",
                "from torch import gt, nn\n",
                "\n",
                "from torch.utils.data import DataLoader\n",
                "\n",
                "import torch.nn.functional as F\n",
                "torch.backends.cudnn.benchmark = True\n",
                "import torch.distributed as dist\n",
                "\n",
                "os.sys.path.append('/root/End2End')\n",
                "os.sys.path.append('/root/End2End/v1')\n",
                "from utils.trainer import Engine\n",
                "from v1.config import GlobalConfig\n",
                "from v1.carla_data import CARLA_Data\n",
                "\n",
                "\n",
                "# Config\n",
                "config = GlobalConfig()\n",
                "\n",
                "# Data\n",
                "train_set = CARLA_Data(root=config.train_data, config=config)\n",
                "val_set = CARLA_Data(root=config.val_data, config=config)\n",
                "\n",
                "dataloader_train = DataLoader(train_set, batch_size=config.batch_size, shuffle=True, num_workers=16, pin_memory=True)\n",
                "dataloader_val = DataLoader(val_set, batch_size=config.batch_size, shuffle=True, num_workers=16, pin_memory=True)\n",
                "\n",
                "# Model\n",
                "model = ImagineNet(config)\n",
                "model = nn.DataParallel(model, device_ids=config.multi_gpus).cuda()\n",
                "# model.to('cuda:0')\n",
                "optimizer = optim.AdamW(model.parameters(), lr=1e-4)\n",
                "trainer = Engine(model, dataloader_train, dataloader_val, optimizer, '/root/End2End/v1/log')\n",
                "\n",
                "model_parameters = filter(lambda p: p.requires_grad, model.parameters())\n",
                "params = sum([np.prod(p.size()) for p in model_parameters])\n",
                "print ('Total trainable parameters: ', params)\n",
                "\n",
                "\n",
                "# Load checkpoint\n",
                "if isinstance(model, nn.DataParallel):\n",
                "      model.module.load_state_dict(torch.load(os.path.join('/root/End2End/v1/log/ImagineNet', 'best_model.pth')))\n",
                "else :\n",
                "      model.load_state_dict(torch.load(os.path.join('/root/End2End/v1/log/ImagineNet', 'best_model.pth')))"
            ],
            "outputs": [
                {
                    "output_type": "stream",
                    "name": "stdout",
                    "text": [
                        "  0%|          | 0/2 [00:00<?, ?it/s]loading 5366 frames from routes_town02_tiny_10_07_10_23_15\n",
                        "loading 12323 frames from routes_town03_tiny_10_09_08_16_25\n",
                        "100%|██████████| 2/2 [00:00<00:00, 12.41it/s]\n",
                        "  0%|          | 0/2 [00:00<?, ?it/s]loading 1011 frames from routes_town02_short_10_08_06_44_10\n",
                        "loading 507 frames from routes_town03_short_10_08_09_20_46\n",
                        "100%|██████████| 2/2 [00:00<00:00, 1048.31it/s]\n",
                        "Total trainable parameters:  28376904\n"
                    ]
                }
            ],
            "metadata": {}
        },
        {
            "cell_type": "code",
            "execution_count": 3,
            "source": [
                "for i in tqdm(dataloader_val):\n",
                "      data = i\n",
                "      break"
            ],
            "outputs": [
                {
                    "output_type": "stream",
                    "name": "stderr",
                    "text": [
                        "  0%|          | 0/95 [00:11<?, ?it/s]\n"
                    ]
                }
            ],
            "metadata": {}
        },
        {
            "cell_type": "code",
            "execution_count": 9,
            "source": [],
            "outputs": [],
            "metadata": {}
        },
        {
            "cell_type": "code",
            "execution_count": 4,
            "source": [
                "data.keys()"
            ],
            "outputs": [
                {
                    "output_type": "execute_result",
                    "data": {
                        "text/plain": [
                            "dict_keys(['fronts', 'tels', 'seg_fronts', 'seg_tels', 'lefts', 'seg_lefts', 'rights', 'seg_rights', 'target_point', 'steer', 'throttle', 'brake', 'command', 'velocity', 'waypoints'])"
                        ]
                    },
                    "metadata": {},
                    "execution_count": 4
                }
            ],
            "metadata": {}
        },
        {
            "cell_type": "code",
            "execution_count": 4,
            "source": [
                "data_in, label = model.module.data_preprocess(data)"
            ],
            "outputs": [],
            "metadata": {}
        },
        {
            "cell_type": "code",
            "execution_count": 14,
            "source": [
                "label = label.view(-1, 256, 256)"
            ],
            "outputs": [],
            "metadata": {}
        },
        {
            "cell_type": "code",
            "execution_count": 11,
            "source": [
                "import torch\n",
                "with torch.no_grad():\n",
                "      pred = model(data_in)"
            ],
            "outputs": [],
            "metadata": {}
        },
        {
            "cell_type": "code",
            "execution_count": 7,
            "source": [
                "pred.shape"
            ],
            "outputs": [
                {
                    "output_type": "execute_result",
                    "data": {
                        "text/plain": [
                            "torch.Size([512, 8, 256, 256])"
                        ]
                    },
                    "metadata": {},
                    "execution_count": 7
                }
            ],
            "metadata": {}
        },
        {
            "cell_type": "code",
            "execution_count": 29,
            "source": [
                "label[401].max()"
            ],
            "outputs": [
                {
                    "output_type": "execute_result",
                    "data": {
                        "text/plain": [
                            "tensor(5, device='cuda:0')"
                        ]
                    },
                    "metadata": {},
                    "execution_count": 29
                }
            ],
            "metadata": {}
        },
        {
            "cell_type": "code",
            "execution_count": 5,
            "source": [
                "data_in.shape"
            ],
            "outputs": [
                {
                    "output_type": "execute_result",
                    "data": {
                        "text/plain": [
                            "torch.Size([16, 32, 3, 256, 256])"
                        ]
                    },
                    "metadata": {},
                    "execution_count": 5
                }
            ],
            "metadata": {}
        },
        {
            "cell_type": "code",
            "execution_count": 7,
            "source": [
                "import matplotlib.pyplot as plt"
            ],
            "outputs": [],
            "metadata": {}
        },
        {
            "cell_type": "code",
            "execution_count": 26,
            "source": [
                "plt.rcParams['figure.figsize'] = (16.0, 6.0) \n",
                "# f, axarr = plt.subplots(1, 1)\n",
                "# axarr[0].imshow(lefts[0,0,:,:,:].detach().cpu().permute(1, 2, 0).int(), cmap='Greys_r')\n",
                "plt.imshow(label[35].cpu(), cmap='Greys_r')\n",
                "#plt.imshow(data_in[0, 0,:,:,:].detach().cpu().permute(1, 2, 0).int(), cmap='Greys_r')\n",
                "plt.show()"
            ],
            "outputs": [
                {
                    "output_type": "display_data",
                    "data": {
                        "text/plain": [
                            "<Figure size 1152x432 with 1 Axes>"
                        ],
                        "image/png": "[encoded data removed]"
                    },
                    "metadata": {
                        "needs_background": "light"
                    }
                }
            ],
            "metadata": {}
        },
        {
            "cell_type": "code",
            "execution_count": 28,
            "source": [
                "plt.rcParams['figure.figsize'] = (16.0, 6.0) \n",
                "# f, axarr = plt.subplots(1, 1)\n",
                "# axarr[0].imshow(lefts[0,0,:,:,:].detach().cpu().permute(1, 2, 0).int(), cmap='Greys_r')\n",
                "plt.imshow(pred[35].argmax(0).cpu(), cmap='Greys_r')\n",
                "# axarr[2].imshow(rights[0,0,:,:,:].detach().cpu().permute(1, 2, 0).int(), cmap='Greys_r')\n",
                "plt.show()"
            ],
            "outputs": [
                {
                    "output_type": "display_data",
                    "data": {
                        "text/plain": [
                            "<Figure size 1152x432 with 1 Axes>"
                        ],
                        "image/png": "[encoded data removed]"
                    },
                    "metadata": {
                        "needs_background": "light"
                    }
                }
            ],
            "metadata": {}
        },
        {
            "cell_type": "code",
            "execution_count": 24,
            "source": [
                "img = pred.cpu()"
            ],
            "outputs": [],
            "metadata": {}
        },
        {
            "cell_type": "code",
            "execution_count": 28,
            "source": [
                "img = img[0]"
            ],
            "outputs": [],
            "metadata": {}
        },
        {
            "cell_type": "code",
            "execution_count": 30,
            "source": [
                "img.min()"
            ],
            "outputs": [
                {
                    "output_type": "execute_result",
                    "data": {
                        "text/plain": [
                            "tensor(-19.1193)"
                        ]
                    },
                    "metadata": {},
                    "execution_count": 30
                }
            ],
            "metadata": {}
        },
        {
            "cell_type": "code",
            "execution_count": 8,
            "source": [
                "pred[231].argmax(0).shape"
            ],
            "outputs": [
                {
                    "output_type": "execute_result",
                    "data": {
                        "text/plain": [
                            "torch.Size([256, 256])"
                        ]
                    },
                    "metadata": {},
                    "execution_count": 8
                }
            ],
            "metadata": {}
        },
        {
            "cell_type": "code",
            "execution_count": null,
            "source": [],
            "outputs": [],
            "metadata": {}
        }
    ],
    "metadata": {
        "orig_nbformat": 4,
        "language_info": {
            "name": "python",
            "version": "3.9.12",
            "mimetype": "text/x-python",
            "codemirror_mode": {
                "name": "ipython",
                "version": 3
            },
            "pygments_lexer": "ipython3",
            "nbconvert_exporter": "python",
            "file_extension": ".py"
        },
        "kernelspec": {
            "name": "python3",
            "display_name": "Python 3.9.12 64-bit"
        },
        "interpreter": {
            "hash": "4cd7ab41f5fca4b9b44701077e38c5ffd31fe66a6cab21e0214b68d958d0e462"
        }
    },
    "nbformat": 4,
    "nbformat_minor": 2
}