{
 "cells": [
  {
   "cell_type": "code",
   "execution_count": 1,
   "metadata": {},
   "outputs": [],
   "source": [
    "import os"
   ]
  },
  {
   "cell_type": "code",
   "execution_count": 9,
   "metadata": {},
   "outputs": [],
   "source": [
    "data_index_dir = r'E:\\CarlaDataSet\\data\\tu2_val'"
   ]
  },
  {
   "cell_type": "code",
   "execution_count": 10,
   "metadata": {},
   "outputs": [],
   "source": [
    "dirs = os.listdir(data_index_dir)"
   ]
  },
  {
   "cell_type": "code",
   "execution_count": 11,
   "metadata": {},
   "outputs": [
    {
     "name": "stdout",
     "output_type": "stream",
     "text": [
      "E:\\CarlaDataSet\\data\\tu2_val\\RoadRunner_Maps_tu2_w0_10_16_15_48_19 773\n"
     ]
    }
   ],
   "source": [
    "for dir in dirs:\n",
    "    path_ = os.path.join(data_index_dir, dir)\n",
    "    path = os.path.join(data_index_dir, dir, 'rgb_front')\n",
    "    print(\"{} {}\".format(path_, os.listdir(path).__len__()))"
   ]
  },
  {
   "cell_type": "code",
   "execution_count": null,
   "metadata": {},
   "outputs": [],
   "source": []
  },
  {
   "cell_type": "code",
   "execution_count": 16,
   "metadata": {},
   "outputs": [],
   "source": [
    "import json"
   ]
  },
  {
   "cell_type": "code",
   "execution_count": 19,
   "metadata": {},
   "outputs": [],
   "source": [
    "data_index_dir = r'E:\\CarlaDataSet\\data\\tu2_2'"
   ]
  },
  {
   "cell_type": "code",
   "execution_count": 20,
   "metadata": {},
   "outputs": [],
   "source": [
    "dirs = os.listdir(data_index_dir)"
   ]
  },
  {
   "cell_type": "code",
   "execution_count": 21,
   "metadata": {},
   "outputs": [
    {
     "name": "stdout",
     "output_type": "stream",
     "text": [
      "E:\\CarlaDataSet\\data\\tu2_2\\RoadRunner_Maps_tu2_w0_10_16_16_09_11 692\n",
      "E:\\CarlaDataSet\\data\\tu2_2\\RoadRunner_Maps_tu2_w0_10_16_16_11_28 706\n",
      "E:\\CarlaDataSet\\data\\tu2_2\\RoadRunner_Maps_tu2_w0_10_16_16_13_39 764\n",
      "E:\\CarlaDataSet\\data\\tu2_2\\RoadRunner_Maps_tu2_w0_10_16_16_16_05 697\n",
      "E:\\CarlaDataSet\\data\\tu2_2\\RoadRunner_Maps_tu2_w0_10_16_16_17_48\\measurements\\0617.json\n",
      "E:\\CarlaDataSet\\data\\tu2_2\\RoadRunner_Maps_tu2_w0_10_16_16_17_48 618\n"
     ]
    }
   ],
   "source": [
    "for dir in dirs:\n",
    "    path_ = os.path.join(data_index_dir, dir)\n",
    "    path = os.path.join(data_index_dir, dir, 'measurements')\n",
    "    frames = os.listdir(path).__len__()\n",
    "    for frame_id in range(frames):\n",
    "        with open(os.path.join(path, \"%04d.json\" % frame_id), 'r') as f:\n",
    "            measurements = json.load(f)\n",
    "            try:\n",
    "                measurements['future_waypoints']\n",
    "            except:\n",
    "                print(os.path.join(path, \"%04d.json\" % frame_id))\n",
    "    print(\"{} {}\".format(path_, os.listdir(path).__len__()))"
   ]
  },
  {
   "cell_type": "code",
   "execution_count": null,
   "metadata": {},
   "outputs": [],
   "source": []
  }
 ],
 "metadata": {
  "kernelspec": {
   "display_name": "venv",
   "language": "python",
   "name": "python3"
  },
  "language_info": {
   "codemirror_mode": {
    "name": "ipython",
    "version": 3
   },
   "file_extension": ".py",
   "mimetype": "text/x-python",
   "name": "python",
   "nbconvert_exporter": "python",
   "pygments_lexer": "ipython3",
   "version": "3.8.0"
  }
 },
 "nbformat": 4,
 "nbformat_minor": 2
}
